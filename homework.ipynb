{
 "cells": [
  {
   "cell_type": "markdown",
   "id": "9521404f",
   "metadata": {},
   "source": [
    "#  EXERCICE1"
   ]
  },
  {
   "cell_type": "code",
   "execution_count": 1,
   "id": "45566044",
   "metadata": {},
   "outputs": [
    {
     "name": "stdout",
     "output_type": "stream",
     "text": [
      "entrer le nombre a :5\n",
      "entrer le nombre b :4\n",
      "entrer le nombre c :12\n",
      "12 est le maximum\n"
     ]
    }
   ],
   "source": [
    "a=int(input(\"entrer le nombre a :\"))\n",
    "b=int(input(\"entrer le nombre b :\"))\n",
    "c=int(input(\"entrer le nombre c :\"))\n",
    "if a>b and a>c:\n",
    "      print(a, \"est le maximum\")\n",
    "elif c>b and c>a:\n",
    "       print(c, \"est le maximum\")\n",
    "else:\n",
    "       print(b, \"est le maximum\")"
   ]
  },
  {
   "cell_type": "markdown",
   "id": "fad72720",
   "metadata": {},
   "source": [
    "# Exercice2"
   ]
  },
  {
   "cell_type": "code",
   "execution_count": 2,
   "id": "f8ad849a",
   "metadata": {},
   "outputs": [
    {
     "name": "stdout",
     "output_type": "stream",
     "text": [
      "entrer une lettrem\n",
      "m est une consonne\n"
     ]
    }
   ],
   "source": [
    "L=input(\"entrer une lettre\")\n",
    "if L in (\"a\", \"o\", \"e\", \"i\", \"u\" and \"A\", \"B\", \"E\", \"I\", \"U\" ):\n",
    "    print(L, \"est une voyelle\")\n",
    "else:\n",
    "    print(L, \"est une consonne\")"
   ]
  },
  {
   "cell_type": "markdown",
   "id": "264ca2b3",
   "metadata": {},
   "source": [
    "# Exercice3"
   ]
  },
  {
   "cell_type": "code",
   "execution_count": 3,
   "id": "bd6c4a6b",
   "metadata": {},
   "outputs": [
    {
     "name": "stdout",
     "output_type": "stream",
     "text": [
      "entrer le numéro du jour de la semaine  :5\n",
      "vendredi\n"
     ]
    }
   ],
   "source": [
    "n=int(input(\"entrer le numéro du jour de la semaine  :\"))\n",
    "if n==1:\n",
    "    print (\"lundi\")\n",
    "if n==2:\n",
    "    print (\"mardi\")\n",
    "if n==3:\n",
    "    print (\"mercredi\")\n",
    "if n==4:\n",
    "    print (\"jeudi\")       \n",
    "if n==5:\n",
    "    print (\"vendredi\") \n",
    "if n==6:\n",
    "    print (\"samedi\")        \n",
    "if n==7:\n",
    "    print (\"dimanche\")"
   ]
  },
  {
   "cell_type": "markdown",
   "id": "1f2ad014",
   "metadata": {},
   "source": [
    "# Exercice4"
   ]
  },
  {
   "cell_type": "code",
   "execution_count": 4,
   "id": "809a59c4",
   "metadata": {},
   "outputs": [
    {
     "name": "stdout",
     "output_type": "stream",
     "text": [
      "entrer le prix de fabriction2547\n",
      "entrer le prix de vente1452\n",
      "il y'a perte\n"
     ]
    }
   ],
   "source": [
    "pf=int(input(\"entrer le prix de fabriction\"))\n",
    "pv=int(input(\"entrer le prix de vente\"))\n",
    "if(pf>pv):\n",
    "    print(\"il y'a perte\")\n",
    "else:\n",
    "    print(\"il y'a profit\")"
   ]
  },
  {
   "cell_type": "markdown",
   "id": "84d2d871",
   "metadata": {},
   "source": [
    "# Exercice 5"
   ]
  },
  {
   "cell_type": "code",
   "execution_count": 5,
   "id": "6b15b3d1",
   "metadata": {},
   "outputs": [
    {
     "name": "stdout",
     "output_type": "stream",
     "text": [
      "entrer une année :2016\n",
      "2016 est bissectile\n"
     ]
    }
   ],
   "source": [
    "a=int(input(\"entrer une année :\"))\n",
    "\n",
    "if a%4==0 and a%100!=0 or a%400==0 :\n",
    "    \n",
    "    print(a, \"est bissectile\")\n",
    "else:\n",
    "    \n",
    "    print(a, \"n'est pas bissectile\")"
   ]
  },
  {
   "cell_type": "markdown",
   "id": "ca3d07bb",
   "metadata": {},
   "source": [
    "# Exercice6"
   ]
  },
  {
   "cell_type": "code",
   "execution_count": 8,
   "id": "a00edef2",
   "metadata": {},
   "outputs": [
    {
     "name": "stdout",
     "output_type": "stream",
     "text": [
      "           *            \n",
      "       *      *       \n",
      "    *            *   \n",
      "  *    *    *      *        \n"
     ]
    }
   ],
   "source": [
    "for i in range (1,5):\n",
    "    if i==1:\n",
    "        print(\"           *            \")\n",
    "    \n",
    "    if i==2:\n",
    "         print(\"       *      *       \")\n",
    "\n",
    "    if i==3:\n",
    "         print(\"    *            *   \")\n",
    "    \n",
    "    if i==4:\n",
    "         print(\"  *    *    *      *        \")"
   ]
  },
  {
   "cell_type": "markdown",
   "id": "c6392cd4",
   "metadata": {},
   "source": [
    "# Exercice7"
   ]
  },
  {
   "cell_type": "code",
   "execution_count": 9,
   "id": "463a3850",
   "metadata": {},
   "outputs": [
    {
     "name": "stdout",
     "output_type": "stream",
     "text": [
      "entrer un motinformatique\n",
      "informatique contient 6 voyelles\n"
     ]
    }
   ],
   "source": [
    "n=input(\"entrer un mot\")\n",
    "m=len(n)\n",
    "nv=0\n",
    "for i in range (0,m):\n",
    "    if n[i] in [\"a\", \"o\", \"e\", \"i\", \"u\"]:\n",
    "        nv=nv+1\n",
    "print(n, \"contient\",nv ,\"voyelles\")"
   ]
  },
  {
   "cell_type": "markdown",
   "id": "2537cea4",
   "metadata": {},
   "source": [
    "# Exercice8 "
   ]
  },
  {
   "cell_type": "code",
   "execution_count": 10,
   "id": "4d32572f",
   "metadata": {},
   "outputs": [
    {
     "name": "stdout",
     "output_type": "stream",
     "text": [
      "17\n",
      "14\n",
      "11\n",
      "8\n",
      "5\n",
      "2\n"
     ]
    }
   ],
   "source": [
    "for x in range(1,18)[::-3]:\n",
    "    print (x)"
   ]
  },
  {
   "cell_type": "markdown",
   "id": "b56e6691",
   "metadata": {},
   "source": [
    "# Exercice9"
   ]
  },
  {
   "cell_type": "code",
   "execution_count": 1,
   "id": "c2167615",
   "metadata": {},
   "outputs": [
    {
     "name": "stdout",
     "output_type": "stream",
     "text": [
      "entrer une note :12\n",
      "entrer une note :14\n",
      "entrer une note :18\n",
      "14.666666666666666 18 12\n"
     ]
    }
   ],
   "source": [
    "s=0\n",
    "min=20\n",
    "max=0\n",
    "moy=1\n",
    "for i in range (1,4):\n",
    "    n=int(input(\"entrer une note :\"))\n",
    "    s=s+n\n",
    "    if n<=min:\n",
    "        min=n\n",
    "    if n>=max:\n",
    "        max=n    \n",
    "moy=moy*s/3\n",
    "print(moy,max,min)\n",
    "    \n",
    "       "
   ]
  },
  {
   "cell_type": "markdown",
   "id": "e1ef41c2",
   "metadata": {},
   "source": [
    "# Exercice 10"
   ]
  },
  {
   "cell_type": "code",
   "execution_count": 7,
   "id": "20f65cab",
   "metadata": {},
   "outputs": [
    {
     "name": "stdout",
     "output_type": "stream",
     "text": [
      "repondez par oui ou non svp \n",
      "est tu bonne personne?oui\n",
      "Merci\n"
     ]
    }
   ],
   "source": [
    "print(\"repondez par oui ou non svp \")\n",
    "rep=input(\"est tu bonne personne?\")\n",
    "\n",
    "\n",
    "if rep==\"non\" or   rep==\"oui\":\n",
    "    print(\"Merci\")\n",
    "else:\n",
    "    print(\"error!!! Répondez par oui ou non\")"
   ]
  },
  {
   "cell_type": "markdown",
   "id": "c1b6b23b",
   "metadata": {},
   "source": [
    "# Exercice11"
   ]
  },
  {
   "cell_type": "code",
   "execution_count": 5,
   "id": "7b8f9058",
   "metadata": {},
   "outputs": [
    {
     "name": "stdout",
     "output_type": "stream",
     "text": [
      "entrer le nombre à deviner12\n",
      "petit\n",
      "entrer le nombre à deviner145\n",
      "grand\n",
      "entrer le nombre à deviner74\n",
      "grand\n",
      "entrer le nombre à deviner14\n",
      "petit\n",
      "entrer le nombre à deviner41\n",
      "grand\n",
      "le nombre était : 20\n"
     ]
    }
   ],
   "source": [
    "from random import *\n",
    "n=randint(1,100)\n",
    "\n",
    "for i in range (1,6):\n",
    "    \n",
    "    a=int(input(\"entrer le nombre à deviner\"))\n",
    "    \n",
    "    if(a<n):\n",
    "        print(\"petit\")\n",
    "    elif a>n:\n",
    "         print(\"grand\")\n",
    "    else:\n",
    "        print(\"bravo\")\n",
    "        \n",
    "print(\"le nombre était :\", n)\n",
    "        "
   ]
  },
  {
   "cell_type": "markdown",
   "id": "5b16d366",
   "metadata": {},
   "source": [
    "# Exercice 12"
   ]
  },
  {
   "cell_type": "code",
   "execution_count": 4,
   "id": "9340fb08",
   "metadata": {},
   "outputs": [
    {
     "name": "stdout",
     "output_type": "stream",
     "text": [
      "entrer un nombre 255\n",
      "entrer un autre nombre 141\n",
      "le pgcd pour 255 et 141 est : \n",
      "3\n"
     ]
    }
   ],
   "source": [
    "a=int(input(\"entrer un nombre \"))\n",
    "b=int(input(\"entrer un autre nombre \"))\n",
    "import math \n",
    "  \n",
    "print(\"le pgcd pour\",a,\"et\" ,b, \"est : \") \n",
    "print(math.gcd(a, b)) "
   ]
  },
  {
   "cell_type": "markdown",
   "id": "40ea7ef9",
   "metadata": {},
   "source": [
    "# Exercice13\n"
   ]
  },
  {
   "cell_type": "code",
   "execution_count": 20,
   "id": "012f8695",
   "metadata": {},
   "outputs": [
    {
     "name": "stdout",
     "output_type": "stream",
     "text": [
      "0 1 2 3 4 5 6 7 8 9 \n",
      "\n",
      "0 1 2 3 4 5 6 7 8 9 \n",
      "\n",
      "0 1 2 3 4 5 6 7 8 9 \n",
      "\n",
      "0 1 2 3 4 5 6 7 8 9 \n",
      "\n",
      "0 1 2 3 4 5 6 7 8 9 \n",
      "\n"
     ]
    }
   ],
   "source": [
    "for i in range (1,6):\n",
    "    for i in range(10):\n",
    "        print(i)\n",
    "    print(\"\\n\")"
   ]
  },
  {
   "cell_type": "markdown",
   "id": "df8cfd28",
   "metadata": {},
   "source": [
    "# Exercice14"
   ]
  },
  {
   "cell_type": "code",
   "execution_count": 6,
   "id": "50b202fc",
   "metadata": {},
   "outputs": [
    {
     "name": "stdout",
     "output_type": "stream",
     "text": [
      "Entrez un entier p:5\n",
      "La somme des 5 premier entiers naturels est égale à 15\n"
     ]
    }
   ],
   "source": [
    "somme = 0\n",
    "p=int(input(\"Entrez un entier p:\"))\n",
    "for i in range (1, p+1):\n",
    "    somme=somme+i\n",
    "print(\"La somme des\",p,\"premier entiers naturels est égale à\",somme)"
   ]
  },
  {
   "cell_type": "markdown",
   "id": "ff68a3b0",
   "metadata": {},
   "source": [
    "# Exercice15"
   ]
  },
  {
   "cell_type": "code",
   "execution_count": 12,
   "id": "267e0f1e",
   "metadata": {},
   "outputs": [
    {
     "name": "stdout",
     "output_type": "stream",
     "text": [
      "284\n"
     ]
    }
   ],
   "source": [
    "sr=0\n",
    "for i in range(2,10):\n",
    "    sr=sr+(i**2)\n",
    "print(sr)\n"
   ]
  },
  {
   "cell_type": "markdown",
   "id": "5e20fabb",
   "metadata": {},
   "source": [
    "# Exercice16"
   ]
  },
  {
   "cell_type": "code",
   "execution_count": 7,
   "id": "7c3fc4bd",
   "metadata": {},
   "outputs": [
    {
     "name": "stdout",
     "output_type": "stream",
     "text": [
      "7\n",
      "14\n",
      "21\n",
      "28\n",
      "35\n",
      "42\n",
      "49\n",
      "56\n",
      "63\n",
      "70\n",
      "77\n",
      "84\n",
      "91\n",
      "98\n",
      "105\n",
      "112\n",
      "119\n",
      "126\n",
      "133\n",
      "140\n",
      "147\n"
     ]
    }
   ],
   "source": [
    "for i in range(1,150):\n",
    "    if i%7==0:\n",
    "        print(i)"
   ]
  },
  {
   "cell_type": "markdown",
   "id": "266f961d",
   "metadata": {},
   "source": [
    "# Exercice17"
   ]
  },
  {
   "cell_type": "code",
   "execution_count": 14,
   "id": "94a4ffa1",
   "metadata": {},
   "outputs": [
    {
     "name": "stdout",
     "output_type": "stream",
     "text": [
      "32\n"
     ]
    }
   ],
   "source": [
    "a=[]\n",
    "for i in range(50):\n",
    "    if i**2>1000:\n",
    "        a.append(i)\n",
    "(print(a[0]))\n"
   ]
  },
  {
   "cell_type": "markdown",
   "id": "86de0fc0",
   "metadata": {},
   "source": [
    "# Exercice18\n"
   ]
  },
  {
   "cell_type": "code",
   "execution_count": 17,
   "id": "5ba91915",
   "metadata": {},
   "outputs": [
    {
     "name": "stdout",
     "output_type": "stream",
     "text": [
      "Entrez un nombre: 153\n",
      "153 est un nombre Armstrong\n"
     ]
    }
   ],
   "source": [
    "n = int(input(\"Entrez un nombre: \"))\n",
    "\n",
    "s = 0\n",
    "m = n\n",
    "while m > 0:\n",
    "   d = m % 10\n",
    "   s += d ** 3\n",
    "   m //= 10\n",
    "if nbr == s:\n",
    "   print(n,\"est un nombre Armstrong\")\n",
    "else:\n",
    "   print(n,\"n'est pas un nombre Armstrong\")"
   ]
  },
  {
   "cell_type": "markdown",
   "id": "70c938cb",
   "metadata": {},
   "source": [
    "# exercice19"
   ]
  },
  {
   "cell_type": "code",
   "execution_count": 13,
   "id": "978b9a96",
   "metadata": {},
   "outputs": [
    {
     "name": "stdout",
     "output_type": "stream",
     "text": [
      "entrer un nombre14\n"
     ]
    }
   ],
   "source": [
    "si=0\n",
    "n=int(input(\"entrer un nombre\"))\n",
    "for i in range(1,n):\n",
    "    for d in range(1,i):\n",
    "        if i%d==0:\n",
    "            si=si+d\n",
    "if si==i:\n",
    "    print(i)\n"
   ]
  },
  {
   "cell_type": "code",
   "execution_count": 11,
   "id": "1897ad30",
   "metadata": {},
   "outputs": [
    {
     "name": "stdout",
     "output_type": "stream",
     "text": [
      "entrer un nombre5\n",
      "5 n'est pas parfait\n"
     ]
    }
   ],
   "source": [
    "sa=0\n",
    "a=int(input(\"entrer un nombre\"))\n",
    "for d in range(1,a):\n",
    "    if a%d==0:\n",
    "        sa=sa+d\n",
    "if sa==a:\n",
    "    print(a,\"est parfait\")\n",
    "else:\n",
    "    print(a,\"n'est pas parfait\")\n",
    "    \n",
    "    \n",
    "    \n",
    "\n"
   ]
  },
  {
   "cell_type": "code",
   "execution_count": null,
   "id": "f7612a4b",
   "metadata": {},
   "outputs": [],
   "source": []
  },
  {
   "cell_type": "code",
   "execution_count": null,
   "id": "831b2a9a",
   "metadata": {},
   "outputs": [],
   "source": []
  },
  {
   "cell_type": "code",
   "execution_count": null,
   "id": "8423bd96",
   "metadata": {},
   "outputs": [],
   "source": []
  },
  {
   "cell_type": "code",
   "execution_count": null,
   "id": "a4f04106",
   "metadata": {},
   "outputs": [],
   "source": []
  },
  {
   "cell_type": "code",
   "execution_count": null,
   "id": "0dfafd22",
   "metadata": {},
   "outputs": [],
   "source": [
    "\n",
    "\n",
    "\n"
   ]
  }
 ],
 "metadata": {
  "kernelspec": {
   "display_name": "Python 3 (ipykernel)",
   "language": "python",
   "name": "python3"
  },
  "language_info": {
   "codemirror_mode": {
    "name": "ipython",
    "version": 3
   },
   "file_extension": ".py",
   "mimetype": "text/x-python",
   "name": "python",
   "nbconvert_exporter": "python",
   "pygments_lexer": "ipython3",
   "version": "3.8.5"
  }
 },
 "nbformat": 4,
 "nbformat_minor": 5
}
