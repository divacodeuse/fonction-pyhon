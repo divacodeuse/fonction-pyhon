{
 "cells": [
  {
   "cell_type": "markdown",
   "id": "bc3a3a98",
   "metadata": {},
   "source": [
    "# Exercice1"
   ]
  },
  {
   "cell_type": "code",
   "execution_count": 2,
   "id": "10429874",
   "metadata": {},
   "outputs": [
    {
     "data": {
      "text/plain": [
       "15"
      ]
     },
     "execution_count": 2,
     "metadata": {},
     "output_type": "execute_result"
    }
   ],
   "source": [
    "def maximun(a,b,c):\n",
    "    if a>b and a>c:\n",
    "        max=a\n",
    "    elif b>a and b>c:\n",
    "        max=b\n",
    "    else:\n",
    "        max=c\n",
    "        return max\n",
    "maximun(12,13,15)\n",
    "        \n",
    "                "
   ]
  },
  {
   "cell_type": "markdown",
   "id": "935a722a",
   "metadata": {},
   "source": [
    "# Exercice2"
   ]
  },
  {
   "cell_type": "code",
   "execution_count": 20,
   "id": "6e14f4a6",
   "metadata": {},
   "outputs": [
    {
     "data": {
      "text/plain": [
       "'voyelle'"
      ]
     },
     "execution_count": 20,
     "metadata": {},
     "output_type": "execute_result"
    }
   ],
   "source": [
    "def lettre(a):\n",
    "    if a in (\"a\", \"o\", \"e\", \"i\", \"u\" and \"A\", \"B\", \"E\", \"I\", \"U\" ):\n",
    "        a=\"voyelle\"\n",
    "    else:\n",
    "        a=\"consonne\"\n",
    "    return a \n",
    "lettre(\"a\")\n"
   ]
  },
  {
   "cell_type": "markdown",
   "id": "c1050597",
   "metadata": {},
   "source": [
    "# Exercice3"
   ]
  },
  {
   "cell_type": "code",
   "execution_count": 23,
   "id": "f42f1d24",
   "metadata": {},
   "outputs": [
    {
     "data": {
      "text/plain": [
       "'vendredi'"
      ]
     },
     "execution_count": 23,
     "metadata": {},
     "output_type": "execute_result"
    }
   ],
   "source": [
    "def jour_semaine(n):\n",
    "    if n==1:\n",
    "        n=\"lundi\"\n",
    "        \n",
    "    if n==2:\n",
    "        n=\"mardi\"\n",
    "        \n",
    "    if n==3:\n",
    "        n=\"mercredi\"\n",
    "        \n",
    "    if n==4:\n",
    "        n=\"jeudi\"\n",
    "        \n",
    "    if n==5:\n",
    "        n=\"vendredi\"\n",
    "        \n",
    "    if n==6:\n",
    "        n=\"samedi\"\n",
    "        \n",
    "    if n==7:\n",
    "        n=\"dimanche\"\n",
    "        \n",
    "    return n\n",
    "jour_semaine(5)"
   ]
  },
  {
   "cell_type": "markdown",
   "id": "5da507ef",
   "metadata": {},
   "source": [
    "# Exercice4"
   ]
  },
  {
   "cell_type": "code",
   "execution_count": 25,
   "id": "fdd08caf",
   "metadata": {},
   "outputs": [
    {
     "data": {
      "text/plain": [
       "'profit'"
      ]
     },
     "execution_count": 25,
     "metadata": {},
     "output_type": "execute_result"
    }
   ],
   "source": [
    "# pf=le prix de fabriction\n",
    "# pv=le prix de vente\n",
    "def profit_perte(pf,pv):\n",
    "    if(pf>pv):\n",
    "        vente=\"profit\"\n",
    "    else:\n",
    "         vente=\"perte\"\n",
    "    return  vente\n",
    "profit_perte(5000,4000)\n",
    "    "
   ]
  },
  {
   "cell_type": "markdown",
   "id": "b1cc19ae",
   "metadata": {},
   "source": [
    "# Exercice5"
   ]
  },
  {
   "cell_type": "code",
   "execution_count": null,
   "id": "178d071b",
   "metadata": {},
   "outputs": [],
   "source": []
  },
  {
   "cell_type": "markdown",
   "id": "1cf1a4fe",
   "metadata": {},
   "source": [
    "# Exercice6"
   ]
  },
  {
   "cell_type": "code",
   "execution_count": 27,
   "id": "264c8d5b",
   "metadata": {},
   "outputs": [
    {
     "data": {
      "text/plain": [
       "' année bissectile'"
      ]
     },
     "execution_count": 27,
     "metadata": {},
     "output_type": "execute_result"
    }
   ],
   "source": [
    "#a estune année\n",
    "def bissextile(a):\n",
    "    if a%4==0 and a%100!=0 or a%400==0 :\n",
    "        a=\" année bissectile\"\n",
    "    else:\n",
    "        a=\"année non bissectile\"\n",
    "    return a\n",
    "bissextile(2016)"
   ]
  },
  {
   "cell_type": "markdown",
   "id": "d2954447",
   "metadata": {},
   "source": [
    "# Exercice7"
   ]
  },
  {
   "cell_type": "code",
   "execution_count": 30,
   "id": "385e6184",
   "metadata": {},
   "outputs": [
    {
     "data": {
      "text/plain": [
       "6"
      ]
     },
     "execution_count": 30,
     "metadata": {},
     "output_type": "execute_result"
    }
   ],
   "source": [
    "# m est mot quelconque\n",
    "def nb_voyelles(n):\n",
    "    m=len(n)\n",
    "    nv=0\n",
    "    for i in range (0,m):\n",
    "        if n[i] in [\"a\", \"o\", \"e\", \"i\", \"u\"]:\n",
    "             nv=nv+1\n",
    "    return nv\n",
    "nb_voyelles(\"informatique\")"
   ]
  },
  {
   "cell_type": "markdown",
   "id": "7b2dbb50",
   "metadata": {},
   "source": [
    "# Exercice8"
   ]
  },
  {
   "cell_type": "code",
   "execution_count": 50,
   "id": "276aaff3",
   "metadata": {},
   "outputs": [
    {
     "name": "stdout",
     "output_type": "stream",
     "text": [
      "17\n",
      "14\n",
      "11\n",
      "8\n",
      "5\n",
      "2\n"
     ]
    }
   ],
   "source": [
    "def inverse_pas_de_trois():\n",
    "    for x in range(1,18)[::-3]:\n",
    "         print(x)\n",
    "inverse_pas_de_trois()"
   ]
  },
  {
   "cell_type": "markdown",
   "id": "079ab731",
   "metadata": {},
   "source": [
    "# Exercice9"
   ]
  },
  {
   "cell_type": "code",
   "execution_count": 74,
   "id": "d8c4dc5a",
   "metadata": {},
   "outputs": [],
   "source": [
    "def calul_notes():\n",
    "    s=0\n",
    "    min=20\n",
    "    max=0\n",
    "    moy=1\n",
    "\n",
    "    for i in range (1,4):\n",
    "        n=int(input(\"entrer une note :\"))\n",
    "        s=s+n\n",
    "        if n<=min:\n",
    "            min=n\n",
    "        if n>=max:\n",
    "            max=n    \n",
    "    moy=moy*s/3\n",
    "    return moy,max,min\n",
    "calcul_notes(10)"
   ]
  },
  {
   "cell_type": "markdown",
   "id": "6e10d416",
   "metadata": {},
   "source": [
    "# Exercice10\n"
   ]
  },
  {
   "cell_type": "code",
   "execution_count": 81,
   "id": "435ee171",
   "metadata": {},
   "outputs": [
    {
     "name": "stdout",
     "output_type": "stream",
     "text": [
      "repondez par oui ou non svp \n",
      "est tu bonne personne ? Sisi\n",
      "error!!! Répondez par oui ou non\n"
     ]
    }
   ],
   "source": [
    "def questionnare():\n",
    "    print(\"repondez par oui ou non svp \")\n",
    "    rep=input(\"est tu bonne personne ? \")\n",
    "\n",
    "\n",
    "    if rep==\"non\" or   rep==\"oui\":\n",
    "         print(\"Merci\")\n",
    "    else:\n",
    "         print(\"error!!! Répondez par oui ou non\")\n",
    "            \n",
    "questionnare()"
   ]
  },
  {
   "cell_type": "markdown",
   "id": "57701ed1",
   "metadata": {},
   "source": [
    "# Exercice11"
   ]
  },
  {
   "cell_type": "code",
   "execution_count": 95,
   "id": "131ad9a4",
   "metadata": {},
   "outputs": [
    {
     "name": "stdout",
     "output_type": "stream",
     "text": [
      "entrer le nombre à deviner14\n",
      "petit\n",
      "entrer le nombre à deviner25\n",
      "petit\n",
      "entrer le nombre à deviner43\n",
      "petit\n",
      "entrer le nombre à deviner98\n",
      "grand\n",
      "entrer le nombre à deviner85\n",
      "grand\n"
     ]
    },
    {
     "data": {
      "text/plain": [
       "58"
      ]
     },
     "execution_count": 95,
     "metadata": {},
     "output_type": "execute_result"
    }
   ],
   "source": [
    "def random_jeux(): \n",
    "    from random import randint\n",
    "    n=randint(1,100)\n",
    "\n",
    "    for i in range (1,6):\n",
    "        a=int(input(\"entrer le nombre à deviner\"))\n",
    "    \n",
    "        if(a<n):\n",
    "            print(\"petit\")\n",
    "        elif a>n:\n",
    "            print(\"grand\")\n",
    "        else:\n",
    "            print(\"bravo\")\n",
    "        \n",
    "\n",
    "    return n  \n",
    "\n",
    "random_jeux()\n"
   ]
  },
  {
   "cell_type": "markdown",
   "id": "d2015292",
   "metadata": {},
   "source": [
    "# Exercice12"
   ]
  },
  {
   "cell_type": "code",
   "execution_count": 25,
   "id": "337cf216",
   "metadata": {},
   "outputs": [
    {
     "name": "stdout",
     "output_type": "stream",
     "text": [
      "le pgcd pour 25 et 15 est : \n",
      "5\n"
     ]
    }
   ],
   "source": [
    "def pgcd(a,b):\n",
    "    import math \n",
    "  \n",
    "    print(\"le pgcd pour\",a,\"et\" ,b, \"est : \") \n",
    "    print(math.gcd(a, b))\n",
    "    \n",
    "pgcd(25,15)"
   ]
  },
  {
   "cell_type": "markdown",
   "id": "d3b51757",
   "metadata": {},
   "source": [
    "# Exercice13"
   ]
  },
  {
   "cell_type": "code",
   "execution_count": 132,
   "id": "af8209ff",
   "metadata": {},
   "outputs": [
    {
     "name": "stdout",
     "output_type": "stream",
     "text": [
      "0 1 2 3 4 5 6 7 8 9 \n",
      "0 1 2 3 4 5 6 7 8 9 \n",
      "0 1 2 3 4 5 6 7 8 9 \n",
      "0 1 2 3 4 5 6 7 8 9 \n",
      "0 1 2 3 4 5 6 7 8 9 \n"
     ]
    }
   ],
   "source": [
    "def afficher(i):\n",
    "    \n",
    "    for i in range (1,6):\n",
    "        for i in range(10):\n",
    "            print(i,ez\" \")\n",
    "        print()\n",
    "        \n",
    "          \n",
    "    \n",
    "    \n",
    "afficher(i)\n",
    "\n",
    "            \n",
    "\n",
    "\n",
    "\n",
    "    "
   ]
  },
  {
   "cell_type": "markdown",
   "id": "54bc87db",
   "metadata": {},
   "source": [
    "# Exercice14"
   ]
  },
  {
   "cell_type": "code",
   "execution_count": 3,
   "id": "9df3e760",
   "metadata": {},
   "outputs": [
    {
     "data": {
      "text/plain": [
       "6"
      ]
     },
     "execution_count": 3,
     "metadata": {},
     "output_type": "execute_result"
    }
   ],
   "source": [
    "def som_entiers(p):\n",
    "    \n",
    "    somme = 0\n",
    "\n",
    "    for i in range (1, 4):\n",
    "         somme=somme+i\n",
    "    return somme\n",
    "\n",
    "som_entiers(15)\n",
    "\n"
   ]
  },
  {
   "cell_type": "markdown",
   "id": "7135722b",
   "metadata": {},
   "source": [
    "# Exercice15"
   ]
  },
  {
   "cell_type": "code",
   "execution_count": 4,
   "id": "85839574",
   "metadata": {},
   "outputs": [
    {
     "data": {
      "text/plain": [
       "284"
      ]
     },
     "execution_count": 4,
     "metadata": {},
     "output_type": "execute_result"
    }
   ],
   "source": [
    "def som_carrées():\n",
    "    \n",
    "    sr=0\n",
    "    for i in range(2,10):\n",
    "        sr=sr+(i**2)\n",
    "    return sr\n",
    "\n",
    "\n",
    "som_carrées()\n"
   ]
  },
  {
   "cell_type": "markdown",
   "id": "6c88b142",
   "metadata": {},
   "source": [
    "# Exercice16"
   ]
  },
  {
   "cell_type": "code",
   "execution_count": 5,
   "id": "20be5a5d",
   "metadata": {},
   "outputs": [
    {
     "name": "stdout",
     "output_type": "stream",
     "text": [
      "7\n",
      "14\n",
      "21\n",
      "28\n",
      "35\n",
      "42\n",
      "49\n",
      "56\n",
      "63\n",
      "70\n",
      "77\n",
      "84\n",
      "91\n",
      "98\n",
      "105\n",
      "112\n",
      "119\n",
      "126\n",
      "133\n",
      "140\n",
      "147\n"
     ]
    }
   ],
   "source": [
    "def divisibilité():\n",
    "    \n",
    "    for i in range(1,150):\n",
    "        if i%7==0:\n",
    "            print(i)\n",
    "            \n",
    "divisibilité()"
   ]
  },
  {
   "cell_type": "markdown",
   "id": "4a7dfa0e",
   "metadata": {},
   "source": [
    "# Exercice17"
   ]
  },
  {
   "cell_type": "code",
   "execution_count": 22,
   "id": "52f56d2d",
   "metadata": {},
   "outputs": [
    {
     "data": {
      "text/plain": [
       "32"
      ]
     },
     "execution_count": 22,
     "metadata": {},
     "output_type": "execute_result"
    }
   ],
   "source": [
    "def carré():\n",
    "    for i in range(50):\n",
    "        \n",
    "        \n",
    "        while i*i>=1000:\n",
    "            return i\n",
    "        \n",
    "       \n",
    "\n",
    "carré()\n",
    "    "
   ]
  },
  {
   "cell_type": "markdown",
   "id": "e2014e51",
   "metadata": {},
   "source": [
    "# Exercice18"
   ]
  },
  {
   "cell_type": "code",
   "execution_count": 3,
   "id": "65af92d1",
   "metadata": {},
   "outputs": [
    {
     "name": "stdout",
     "output_type": "stream",
     "text": [
      "153 est un nombre Armstrong\n"
     ]
    }
   ],
   "source": [
    "def nb_amstrong(n):\n",
    "\n",
    "    s = 0\n",
    "    m = n\n",
    "    while m > 0:\n",
    "        \n",
    "        d = m % 10\n",
    "        s += d ** 3\n",
    "        m //= 10\n",
    "    if n == s:\n",
    "            print(n,\"est un nombre Armstrong\")\n",
    "    else:\n",
    "            print(n,\"n'est pas un nombre Armstrong\")\n",
    "            \n",
    "            \n",
    "nb_amstrong(153)"
   ]
  },
  {
   "cell_type": "markdown",
   "id": "044674f4",
   "metadata": {},
   "source": [
    "# Exercice19"
   ]
  },
  {
   "cell_type": "code",
   "execution_count": 5,
   "id": "f62ba05c",
   "metadata": {},
   "outputs": [
    {
     "name": "stdout",
     "output_type": "stream",
     "text": [
      "entrer un nombre6\n",
      "6 est parfait\n"
     ]
    }
   ],
   "source": [
    "def nb_parfait():\n",
    "    sa=0\n",
    "    a=int(input(\"entrer un nombre\"))\n",
    "    for d in range(1,a):\n",
    "        if a%d==0:\n",
    "            sa=sa+d\n",
    "    if sa==a:\n",
    "        print(a,\"est parfait\")\n",
    "    else:\n",
    "        print(a,\"n'est pas parfait\")\n",
    "    \n",
    "    \n",
    "nb_parfait()\n"
   ]
  },
  {
   "cell_type": "markdown",
   "id": "a8f17f77",
   "metadata": {},
   "source": [
    "# Exercice20"
   ]
  },
  {
   "cell_type": "code",
   "execution_count": 1,
   "id": "cd5d6303",
   "metadata": {},
   "outputs": [
    {
     "data": {
      "text/plain": [
       "75.0"
      ]
     },
     "execution_count": 1,
     "metadata": {},
     "output_type": "execute_result"
    }
   ],
   "source": [
    "def ppcm(a,b):\n",
    "    p=a*b\n",
    "    while(a!=b):\n",
    "        if (a<b): b-=a\n",
    "        else: a-=b\n",
    "    return p/a\n",
    "ppcm(15,25)"
   ]
  },
  {
   "cell_type": "code",
   "execution_count": null,
   "id": "f17cd6e3",
   "metadata": {},
   "outputs": [],
   "source": []
  }
 ],
 "metadata": {
  "kernelspec": {
   "display_name": "Python 3 (ipykernel)",
   "language": "python",
   "name": "python3"
  },
  "language_info": {
   "codemirror_mode": {
    "name": "ipython",
    "version": 3
   },
   "file_extension": ".py",
   "mimetype": "text/x-python",
   "name": "python",
   "nbconvert_exporter": "python",
   "pygments_lexer": "ipython3",
   "version": "3.8.5"
  }
 },
 "nbformat": 4,
 "nbformat_minor": 5
}
